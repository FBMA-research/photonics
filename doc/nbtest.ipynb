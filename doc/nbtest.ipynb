{
 "cells": [
  {
   "cell_type": "markdown",
   "metadata": {},
   "source": [
    "# This is a little notebook test"
   ]
  },
  {
   "cell_type": "markdown",
   "metadata": {},
   "source": [
    "This little test is to try and run markdown and code cells and see if sphinx can renderize them via the extensions installed in the `documentation.yaml` workflow. Let's see a little latex here:"
   ]
  },
  {
   "cell_type": "markdown",
   "metadata": {},
   "source": [
    "$$ \\frac{d}{dx} \\int_a^b f(x) \\; dx = f(b)\\frac{db}{dx} - f(a)\\frac{da}{dx} $$"
   ]
  },
  {
   "cell_type": "markdown",
   "metadata": {},
   "source": [
    "Now, let's see a little code:"
   ]
  },
  {
   "cell_type": "code",
   "execution_count": 1,
   "metadata": {},
   "outputs": [
    {
     "name": "stdout",
     "output_type": "stream",
     "text": [
      "hi Juan, cool name!\n"
     ]
    }
   ],
   "source": [
    "def say_hi(name):\n",
    "    return f\"hi {name}, cool name!\"\n",
    "\n",
    "print(say_hi(\"Juan\"))"
   ]
  },
  {
   "cell_type": "markdown",
   "metadata": {},
   "source": [
    "Let's see notes and warnings in jupyter notebook!:"
   ]
  },
  {
   "cell_type": "markdown",
   "metadata": {},
   "source": [
    "```{note}\n",
    "¡Aquí hay una nota!"
   ]
  },
  {
   "cell_type": "markdown",
   "metadata": {},
   "source": [
    "<div class=\"alert alert-block alert-info\">\n",
    "<b>Tip:</b> Usa cajas azules (alert-info) para consejos y notas. Si es una nota, no tienes que incluir la palabra \"Nota\".\n",
    "</div>\n",
    "\n",
    "<div class=\"alert alert-block alert-warning\">\n",
    "<b>Advertencia:</b> Usa cajas amarillas (alert-warning) para advertencias.\n",
    "</div>"
   ]
  },
  {
   "cell_type": "markdown",
   "metadata": {},
   "source": [
    "Now, let's see tabulations, bullets and tables!"
   ]
  },
  {
   "cell_type": "markdown",
   "metadata": {},
   "source": [
    ">this is a tabulation\n",
    ">\n",
    ">This is very helpful to denote delimited text\n",
    "\n",
    "* This is a bullet 1\n",
    "  * this is a bullet 2\n",
    "  * this is another bullet 2\n",
    "\n",
    "Let's see a table:\n",
    "\n",
    "| index | feature 1 | feature 2 |\n",
    "|---|---|---|\n",
    "| 0 | 3.5 | 4.1 | 5.2 |\n",
    "| 1 | 6.7 | 8.9 | 10.2 |"
   ]
  },
  {
   "cell_type": "markdown",
   "metadata": {},
   "source": [
    "this is a hyperlink to the repository: [repository](https://github.com/FBMA-research/photonics)"
   ]
  },
  {
   "cell_type": "markdown",
   "metadata": {},
   "source": []
  }
 ],
 "metadata": {
  "kernelspec": {
   "display_name": "sci310",
   "language": "python",
   "name": "python3"
  },
  "language_info": {
   "codemirror_mode": {
    "name": "ipython",
    "version": 3
   },
   "file_extension": ".py",
   "mimetype": "text/x-python",
   "name": "python",
   "nbconvert_exporter": "python",
   "pygments_lexer": "ipython3",
   "version": "3.10.9"
  }
 },
 "nbformat": 4,
 "nbformat_minor": 2
}
